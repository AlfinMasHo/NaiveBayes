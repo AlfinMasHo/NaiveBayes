{
  "nbformat": 4,
  "nbformat_minor": 0,
  "metadata": {
    "colab": {
      "name": "Naive Bayes.ipynb",
      "provenance": [],
      "authorship_tag": "ABX9TyNKgDndfNiHY8kWLpEsr5E0",
      "include_colab_link": true
    },
    "kernelspec": {
      "name": "python3",
      "display_name": "Python 3"
    },
    "language_info": {
      "name": "python"
    }
  },
  "cells": [
    {
      "cell_type": "markdown",
      "metadata": {
        "id": "view-in-github",
        "colab_type": "text"
      },
      "source": [
        "<a href=\"https://colab.research.google.com/github/AlfinMasHo/NaiveBayes/blob/main/Naive_Bayes.ipynb\" target=\"_parent\"><img src=\"https://colab.research.google.com/assets/colab-badge.svg\" alt=\"Open In Colab\"/></a>"
      ]
    },
    {
      "cell_type": "code",
      "metadata": {
        "id": "B_8YBah9TMek"
      },
      "source": [
        "import numpy as np\n",
        "import matplotlib.pyplot as plt\n",
        "import pandas as pd"
      ],
      "execution_count": null,
      "outputs": []
    },
    {
      "cell_type": "code",
      "metadata": {
        "id": "cFbSJkrOTind"
      },
      "source": [
        "dataset = pd.read_csv(\"Social Network.csv\")\n",
        "x = dataset.iloc[:, [2, 3]].values\n",
        "y = dataset.iloc[:, -1].values"
      ],
      "execution_count": null,
      "outputs": []
    },
    {
      "cell_type": "code",
      "metadata": {
        "colab": {
          "base_uri": "https://localhost:8080/"
        },
        "id": "Mnc6MQalTuTz",
        "outputId": "c5aa87f1-9445-4e28-c04c-822176f6d137"
      },
      "source": [
        "print(x)"
      ],
      "execution_count": null,
      "outputs": [
        {
          "output_type": "stream",
          "text": [
            "[[    19  19000]\n",
            " [    35  20000]\n",
            " [    26  43000]\n",
            " [    27  57000]\n",
            " [    19  76000]\n",
            " [    27  58000]\n",
            " [    27  84000]\n",
            " [    32 150000]\n",
            " [    25  33000]\n",
            " [    35  65000]\n",
            " [    26  80000]\n",
            " [    26  52000]\n",
            " [    20  86000]]\n"
          ],
          "name": "stdout"
        }
      ]
    },
    {
      "cell_type": "code",
      "metadata": {
        "colab": {
          "base_uri": "https://localhost:8080/"
        },
        "id": "3GCvISd_URp1",
        "outputId": "9760963c-d4c8-4414-a45f-8d1f6a299ece"
      },
      "source": [
        "print (y)"
      ],
      "execution_count": null,
      "outputs": [
        {
          "output_type": "stream",
          "text": [
            "[0 0 0 0 0 0 0 1 0 0 0 0 0]\n"
          ],
          "name": "stdout"
        }
      ]
    },
    {
      "cell_type": "code",
      "metadata": {
        "id": "7_tGWUnYYR0g"
      },
      "source": [
        "from sklearn.model_selection import train_test_split\n",
        "x_train, x_test, y_train, y_test = train_test_split(x, y, test_size = 0.25, random_state = 0)"
      ],
      "execution_count": null,
      "outputs": []
    },
    {
      "cell_type": "code",
      "metadata": {
        "colab": {
          "base_uri": "https://localhost:8080/"
        },
        "id": "xE17_LzQYibb",
        "outputId": "587b7e13-dc2c-47a1-a2d2-4154ec615b8f"
      },
      "source": [
        "print(x_train)"
      ],
      "execution_count": null,
      "outputs": [
        {
          "output_type": "stream",
          "text": [
            "[[    26  43000]\n",
            " [    25  33000]\n",
            " [    35  20000]\n",
            " [    32 150000]\n",
            " [    35  65000]\n",
            " [    27  57000]\n",
            " [    19  19000]\n",
            " [    27  58000]\n",
            " [    20  86000]]\n"
          ],
          "name": "stdout"
        }
      ]
    },
    {
      "cell_type": "code",
      "metadata": {
        "colab": {
          "base_uri": "https://localhost:8080/"
        },
        "id": "LeM-ZsQ7Ywto",
        "outputId": "b942c63d-8534-4098-99c9-890ae5eefbd2"
      },
      "source": [
        "print(x_test)"
      ],
      "execution_count": null,
      "outputs": [
        {
          "output_type": "stream",
          "text": [
            "[[   27 84000]\n",
            " [   26 52000]\n",
            " [   19 76000]\n",
            " [   26 80000]]\n"
          ],
          "name": "stdout"
        }
      ]
    },
    {
      "cell_type": "code",
      "metadata": {
        "colab": {
          "base_uri": "https://localhost:8080/"
        },
        "id": "caLTuIqeY2RM",
        "outputId": "7766a2b3-a88b-495b-9b0e-116ed156da00"
      },
      "source": [
        "print(y_train)"
      ],
      "execution_count": null,
      "outputs": [
        {
          "output_type": "stream",
          "text": [
            "[0 0 0 1 0 0 0 0 0]\n"
          ],
          "name": "stdout"
        }
      ]
    },
    {
      "cell_type": "code",
      "metadata": {
        "id": "bSIN9iiMY7Lg"
      },
      "source": [
        "from sklearn.preprocessing import StandardScaler\n",
        "sc = StandardScaler()\n",
        "x_train = sc.fit_transform(x_train)\n",
        "x_test = sc.fit_transform(x_test)"
      ],
      "execution_count": null,
      "outputs": []
    },
    {
      "cell_type": "code",
      "metadata": {
        "colab": {
          "base_uri": "https://localhost:8080/"
        },
        "id": "ehiFcYM7Y-3Y",
        "outputId": "035b7fb1-8eb2-4af1-f70b-dd8c836ae05b"
      },
      "source": [
        "print(x_train)"
      ],
      "execution_count": null,
      "outputs": [
        {
          "output_type": "stream",
          "text": [
            "[[-0.24343225 -0.41931393]\n",
            " [-0.42600643 -0.68138514]\n",
            " [ 1.39973542 -1.02207772]\n",
            " [ 0.85201287  2.384848  ]\n",
            " [ 1.39973542  0.15724273]\n",
            " [-0.06085806 -0.05241424]\n",
            " [-1.52145155 -1.04828484]\n",
            " [-0.06085806 -0.02620712]\n",
            " [-1.33887736  0.70759226]]\n"
          ],
          "name": "stdout"
        }
      ]
    },
    {
      "cell_type": "code",
      "metadata": {
        "colab": {
          "base_uri": "https://localhost:8080/"
        },
        "id": "l1EmkTwRZEFu",
        "outputId": "326ddfce-da7e-4fa6-e71c-5c9de69556e8"
      },
      "source": [
        "print (x_test)"
      ],
      "execution_count": null,
      "outputs": [
        {
          "output_type": "stream",
          "text": [
            "[[ 0.78086881  0.88354126]\n",
            " [ 0.46852129 -1.68676059]\n",
            " [-1.71791138  0.2409658 ]\n",
            " [ 0.46852129  0.56225353]]\n"
          ],
          "name": "stdout"
        }
      ]
    },
    {
      "cell_type": "code",
      "metadata": {
        "colab": {
          "base_uri": "https://localhost:8080/"
        },
        "id": "ixNG4RkeZHhu",
        "outputId": "246572ac-0efe-431c-8883-c70db7b2386f"
      },
      "source": [
        "from sklearn.naive_bayes import GaussianNB\n",
        "classifier = GaussianNB()\n",
        "classifier.fit(x_train, y_train)"
      ],
      "execution_count": null,
      "outputs": [
        {
          "output_type": "execute_result",
          "data": {
            "text/plain": [
              "GaussianNB(priors=None, var_smoothing=1e-09)"
            ]
          },
          "metadata": {
            "tags": []
          },
          "execution_count": 20
        }
      ]
    },
    {
      "cell_type": "code",
      "metadata": {
        "id": "iNOSrO1sZQVB"
      },
      "source": [
        "y_pred = classifier.predict(x_test)"
      ],
      "execution_count": null,
      "outputs": []
    },
    {
      "cell_type": "code",
      "metadata": {
        "colab": {
          "base_uri": "https://localhost:8080/"
        },
        "id": "_FKxKx1tZX_m",
        "outputId": "bbbf7244-c04d-4907-af2c-7cb34ce4713b"
      },
      "source": [
        "from sklearn.metrics import confusion_matrix\n",
        "cm = confusion_matrix(y_test, y_pred)\n",
        "print(cm)"
      ],
      "execution_count": null,
      "outputs": [
        {
          "output_type": "stream",
          "text": [
            "[[4]]\n"
          ],
          "name": "stdout"
        }
      ]
    },
    {
      "cell_type": "code",
      "metadata": {
        "colab": {
          "base_uri": "https://localhost:8080/",
          "height": 349
        },
        "id": "ST6IVL5wZrpE",
        "outputId": "207ba748-f9d5-4f22-9b16-522f13e99c2d"
      },
      "source": [
        "from matplotlib.colors import ListedColormap\n",
        "x_set, y_set = x_train, y_train\n",
        "x1, x2 = np.meshgrid(np.arange(start = x_set[:, 0].min() - 1, stop = x_set[:, 0].max() + 1, step = 0.01),\n",
        "                     np.arange(start = x_set[:, 1].min() - 1, stop = x_set[:, 1].max() + 1, step = 0.01))\n",
        "plt.contourf(x1, x2, classifier.predict(np.array([x1.ravel(), x2.ravel()]).T).reshape(x1.shape),\n",
        "             alpha = 0.75, cmap = ListedColormap(('red', 'green')))\n",
        "plt.xlim(x1.min(), x1.max())\n",
        "plt.xlim(x2.min(), x2.max())\n",
        "for i, j in enumerate(np.unique(y_set)):\n",
        "  plt.scatter(x_set[y_set == j, 0], x_set[y_set == j, 1],\n",
        "              c = ListedColormap(('red', 'green'))(i), label = j)\n",
        "  \n",
        "plt.title('Naive Bayes (Training set)')\n",
        "plt.xlabel('Age')\n",
        "plt.ylabel('Estimated Salaray')\n",
        "plt.legend()\n",
        "plt.show()"
      ],
      "execution_count": null,
      "outputs": [
        {
          "output_type": "stream",
          "text": [
            "*c* argument looks like a single numeric RGB or RGBA sequence, which should be avoided as value-mapping will have precedence in case its length matches with *x* & *y*.  Please use the *color* keyword-argument or provide a 2-D array with a single row if you intend to specify the same RGB or RGBA value for all points.\n",
            "*c* argument looks like a single numeric RGB or RGBA sequence, which should be avoided as value-mapping will have precedence in case its length matches with *x* & *y*.  Please use the *color* keyword-argument or provide a 2-D array with a single row if you intend to specify the same RGB or RGBA value for all points.\n"
          ],
          "name": "stderr"
        },
        {
          "output_type": "display_data",
          "data": {
            "image/png": "[encoded data removed]",
            "text/plain": [
              "<Figure size 432x288 with 1 Axes>"
            ]
          },
          "metadata": {
            "tags": [],
            "needs_background": "light"
          }
        }
      ]
    },
    {
      "cell_type": "code",
      "metadata": {
        "colab": {
          "base_uri": "https://localhost:8080/",
          "height": 295
        },
        "id": "4jU2UBEDZwt3",
        "outputId": "990d8833-8c58-40fe-c77c-055e8d493269"
      },
      "source": [
        "from matplotlib.colors import ListedColormap\n",
        "x_set, y_set = x_test, y_test\n",
        "x1, x2 = np.meshgrid(np.arange(start = x_set[:, 0].min() - 1, stop = x_set[:, 0].max() + 1, step = 0.01),\n",
        "                     np.arange(start = x_set[:, 1].min() - 1, stop = x_set[:, 1].max() + 1, step = 0.01))\n",
        "plt.contourf(x1, x2, classifier.predict(np.array([x1.ravel(), x2.ravel()]).T).reshape(x1.shape),\n",
        "             alpha = 0.75, cmap = ListedColormap(('red', 'green')))\n",
        "plt.xlim(x1.min(), x1.max())\n",
        "plt.xlim(x2.min(), x2.max())\n",
        "for i, j in enumerate(np.unique(y_set)):\n",
        "  plt.scatter(x_set[y_set == j, 0], x_set[y_set == j, 1],\n",
        "              c = ListedColormap(('red', 'green'))(i), label = j)\n",
        "  \n",
        "plt.title('Naive Bayes (Data Testing)')\n",
        "plt.xlabel('Age')\n",
        "plt.ylabel('Estimated Salaray')\n",
        "plt.legend()\n",
        "plt.show()"
      ],
      "execution_count": null,
      "outputs": [
        {
          "output_type": "display_data",
          "data": {
            "image/png": "[encoded data removed]",
            "text/plain": [
              "<Figure size 432x288 with 1 Axes>"
            ]
          },
          "metadata": {
            "tags": [],
            "needs_background": "light"
          }
        }
      ]
    }
  ]
}